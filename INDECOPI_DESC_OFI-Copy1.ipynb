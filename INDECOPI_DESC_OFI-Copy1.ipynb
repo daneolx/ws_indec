{
 "cells": [
  {
   "cell_type": "code",
   "execution_count": 2,
   "metadata": {},
   "outputs": [
    {
     "name": "stderr",
     "output_type": "stream",
     "text": [
      "C:\\Users\\dcantorin\\Anaconda3\\lib\\site-packages\\ipykernel_launcher.py:21: DeprecationWarning: use options instead of chrome_options\n"
     ]
    }
   ],
   "source": [
    "from selenium import webdriver\n",
    "from selenium.webdriver.common.by import By\n",
    "from selenium.webdriver.support.ui import WebDriverWait\n",
    "from selenium.webdriver.support import expected_conditions as EC\n",
    "from selenium.common.exceptions import TimeoutException\n",
    "#librerias para estructura de browser\n",
    "from selenium.common.exceptions import NoSuchElementException\n",
    "from datetime import date, datetime, timedelta \n",
    "\n",
    "from bs4 import BeautifulSoup\n",
    "import requests\n",
    "import pandas as pd\n",
    "import re\n",
    "import time\n",
    "\n",
    "# Specifying incognito mode as you launch your browser[OPTIONAL]\n",
    "option = webdriver.ChromeOptions()\n",
    "option.add_argument(\"--incognito\")\n",
    "\n",
    "# Create new Instance of Chrome in incognito mode\n",
    "browser = webdriver.Chrome(executable_path=r'C:\\SeleniumDriver\\chromedriver.exe', chrome_options=option)\n",
    "\n",
    "#path = r\"C:\\Users\\dcantorin\\Desktop\\Production_dcantorin\\Urbania\\results\"\n",
    "path = r\"D:\\Descargas_WS\\2023\\15_INDECOPI\"\n",
    "path2 = r\"D:\\Descargas_WS\\2023\\15_INDECOPI\\tablas\"\n",
    "\n",
    "today = date.today()"
   ]
  },
  {
   "cell_type": "code",
   "execution_count": 3,
   "metadata": {},
   "outputs": [],
   "source": [
    "url='https://servicio.indecopi.gob.pe/e-value/pgw_infoXDeudor.seam'\n",
    "browser.get(url)"
   ]
  },
  {
   "cell_type": "code",
   "execution_count": 4,
   "metadata": {},
   "outputs": [],
   "source": [
    "from selenium import webdriver\n",
    "from selenium.webdriver.support.ui import WebDriverWait\n",
    "from selenium.webdriver.common.by import By\n",
    "from selenium.webdriver.support import expected_conditions as EC\n",
    "from selenium.webdriver.support.ui import Select\n",
    "import time\n",
    "\n",
    "from selenium import webdriver\n",
    "from selenium.webdriver.support.ui import WebDriverWait\n",
    "from selenium.webdriver.common.by import By\n",
    "from selenium.webdriver.support import expected_conditions as EC\n",
    "from selenium.webdriver.support.ui import Select"
   ]
  },
  {
   "cell_type": "code",
   "execution_count": 5,
   "metadata": {},
   "outputs": [
    {
     "data": {
      "text/html": [
       "<div>\n",
       "<style scoped>\n",
       "    .dataframe tbody tr th:only-of-type {\n",
       "        vertical-align: middle;\n",
       "    }\n",
       "\n",
       "    .dataframe tbody tr th {\n",
       "        vertical-align: top;\n",
       "    }\n",
       "\n",
       "    .dataframe thead th {\n",
       "        text-align: right;\n",
       "    }\n",
       "</style>\n",
       "<table border=\"1\" class=\"dataframe\">\n",
       "  <thead>\n",
       "    <tr style=\"text-align: right;\">\n",
       "      <th></th>\n",
       "      <th>num</th>\n",
       "      <th>anio</th>\n",
       "      <th>doc</th>\n",
       "    </tr>\n",
       "  </thead>\n",
       "  <tbody>\n",
       "    <tr>\n",
       "      <td>0</td>\n",
       "      <td>4</td>\n",
       "      <td>2017</td>\n",
       "      <td>CCO-INDECOPI</td>\n",
       "    </tr>\n",
       "    <tr>\n",
       "      <td>1</td>\n",
       "      <td>1</td>\n",
       "      <td>2005</td>\n",
       "      <td>CCO-INDECOPI-LAM</td>\n",
       "    </tr>\n",
       "    <tr>\n",
       "      <td>2</td>\n",
       "      <td>105</td>\n",
       "      <td>2003</td>\n",
       "      <td>CCO-ODI-ULI</td>\n",
       "    </tr>\n",
       "    <tr>\n",
       "      <td>3</td>\n",
       "      <td>57</td>\n",
       "      <td>2015</td>\n",
       "      <td>CCO-INDECOPI</td>\n",
       "    </tr>\n",
       "    <tr>\n",
       "      <td>4</td>\n",
       "      <td>34</td>\n",
       "      <td>1999</td>\n",
       "      <td>CSM-ODI-CCPL</td>\n",
       "    </tr>\n",
       "    <tr>\n",
       "      <td>...</td>\n",
       "      <td>...</td>\n",
       "      <td>...</td>\n",
       "      <td>...</td>\n",
       "    </tr>\n",
       "    <tr>\n",
       "      <td>622</td>\n",
       "      <td>116</td>\n",
       "      <td>2021</td>\n",
       "      <td>CCO-INDECOPI</td>\n",
       "    </tr>\n",
       "    <tr>\n",
       "      <td>623</td>\n",
       "      <td>94</td>\n",
       "      <td>2020</td>\n",
       "      <td>CCO-INDECOPI</td>\n",
       "    </tr>\n",
       "    <tr>\n",
       "      <td>624</td>\n",
       "      <td>14</td>\n",
       "      <td>2021</td>\n",
       "      <td>CCO-INDECOPI</td>\n",
       "    </tr>\n",
       "    <tr>\n",
       "      <td>625</td>\n",
       "      <td>8</td>\n",
       "      <td>2004</td>\n",
       "      <td>CCO-ODI-UDP</td>\n",
       "    </tr>\n",
       "    <tr>\n",
       "      <td>626</td>\n",
       "      <td>828</td>\n",
       "      <td>2000</td>\n",
       "      <td>CRP-ODI-CAM</td>\n",
       "    </tr>\n",
       "  </tbody>\n",
       "</table>\n",
       "<p>627 rows × 3 columns</p>\n",
       "</div>"
      ],
      "text/plain": [
       "     num  anio               doc\n",
       "0      4  2017      CCO-INDECOPI\n",
       "1      1  2005  CCO-INDECOPI-LAM\n",
       "2    105  2003       CCO-ODI-ULI\n",
       "3     57  2015      CCO-INDECOPI\n",
       "4     34  1999      CSM-ODI-CCPL\n",
       "..   ...   ...               ...\n",
       "622  116  2021      CCO-INDECOPI\n",
       "623   94  2020      CCO-INDECOPI\n",
       "624   14  2021      CCO-INDECOPI\n",
       "625    8  2004       CCO-ODI-UDP\n",
       "626  828  2000       CRP-ODI-CAM\n",
       "\n",
       "[627 rows x 3 columns]"
      ]
     },
     "execution_count": 5,
     "metadata": {},
     "output_type": "execute_result"
    }
   ],
   "source": [
    "filename='INDECOPI.csv'\n",
    "df = pd.read_csv(filename, index_col=None, header=0, encoding='utf-8',sep='|')\n",
    "df"
   ]
  },
  {
   "cell_type": "code",
   "execution_count": 6,
   "metadata": {},
   "outputs": [],
   "source": [
    "list_num = df['num'].tolist()\n",
    "list_num2 = [int(x) for x in list_num]\n",
    "list_anio = df['anio'].tolist()\n",
    "list_doc = df['doc'].tolist()"
   ]
  },
  {
   "cell_type": "code",
   "execution_count": 7,
   "metadata": {},
   "outputs": [
    {
     "data": {
      "text/plain": [
       "322"
      ]
     },
     "execution_count": 7,
     "metadata": {},
     "output_type": "execute_result"
    }
   ],
   "source": [
    "from selenium.common.exceptions import NoSuchElementException\n",
    "\n",
    "inicial = 74\n",
    "conteo_list = len(list_num2)\n",
    "\n",
    "#for i in range(conteo_list):\n",
    "f = inicial + 1\n",
    "num = list_num2[f]\n",
    "anio = list_anio[f]\n",
    "doc = list_doc[f]\n",
    "\n",
    "num"
   ]
  },
  {
   "cell_type": "markdown",
   "metadata": {},
   "source": [
    "# DESCARGA MASIVA"
   ]
  },
  {
   "cell_type": "code",
   "execution_count": null,
   "metadata": {
    "scrolled": true
   },
   "outputs": [
    {
     "name": "stdout",
     "output_type": "stream",
     "text": [
      "----> 322 ---> obtenido\n",
      "----> 15 ---> obtenido\n",
      "----> 62 ---> obtenido\n",
      "----> 14 ---> obtenido\n",
      "----> 21 ---> obtenido\n",
      "----> 145 ---> obtenido\n",
      "----> 31 ---> obtenido\n",
      "----> 442 ---> obtenido\n",
      "----> 15 ---> obtenido\n",
      "----> 3 ---> obtenido\n",
      "----> 124 ---> obtenido\n",
      "----> 432 ---> obtenido\n",
      "----> 30 ---> obtenido\n",
      "----> 56 ---> obtenido\n",
      "----> 1 ---> obtenido\n",
      "----> 225 ---> obtenido\n",
      "----> 21 ---> obtenido\n",
      "----> 34 ---> obtenido\n",
      "----> 8 ---> obtenido\n"
     ]
    }
   ],
   "source": [
    "from selenium.common.exceptions import NoSuchElementException, ElementNotVisibleException\n",
    "lista_docs = list_num2[75:]\n",
    "\n",
    "for i in lista_docs:\n",
    "    \n",
    "    f += 1\n",
    "    num = list_num2[f]\n",
    "    anio = list_anio[f]\n",
    "    doc = list_doc[f]\n",
    "    \n",
    "    #LISTAR\n",
    "    act1 = browser.find_element_by_id('frmInfoDeudor:rbtnTipoBusqueda:1')\n",
    "    act1.click()\n",
    "    time.sleep(2)\n",
    "    act2 = browser.find_element_by_id('frmInfoDeudor:rbtnTipoBusqueda:0')\n",
    "    act2.click()\n",
    "    time.sleep(2)\n",
    "\n",
    "    nro_exp = browser.find_element_by_id('frmInfoDeudor:txtNroExpediente')\n",
    "    nro_exp.send_keys(num)\n",
    "    time.sleep(1)\n",
    "    nro_anio = browser.find_element_by_id('frmInfoDeudor:txtAnioExpediente') \n",
    "    nro_anio.send_keys(anio)\n",
    "    time.sleep(1)\n",
    "    combo = Select(browser.find_element_by_id('frmInfoDeudor:cboSigla'))\n",
    "    combo.select_by_visible_text(doc)\n",
    "\n",
    "    buscar = browser.find_element_by_id('frmInfoDeudor:btnBuscarDeudores')\n",
    "    buscar.click()\n",
    "\n",
    "    time.sleep(4)\n",
    "    \n",
    "    try:\n",
    "        listar = browser.find_element_by_id('frmInfoDeudor:dtLstDeudores:0:cmlNroAcreedores')\n",
    "        listar.click()\n",
    "    except:\n",
    "        pass\n",
    "    \n",
    "    #GUARDAR PLANOS:\n",
    "    \n",
    "    time.sleep(4)\n",
    "    try:\n",
    "        btn_prev = browser.find_elements_by_class_name('rich-datascr-button')[30]\n",
    "        btn_prev.click()\n",
    "    except:\n",
    "        pass\n",
    "    time.sleep(5)\n",
    "    nro_items = browser.find_element_by_id('frmInfoDeudor:dtLstDeudores:0:cmlNroAcreedores')\n",
    "    time.sleep(5)\n",
    "    conteo = nro_items.text\n",
    "    conteo2 = int(int(conteo)/13)+1\n",
    "\n",
    "    for n in range(0,conteo2):\n",
    "        \n",
    "        soup = BeautifulSoup(browser.page_source)\n",
    "        soup_table2 = soup.find_all(\"table\")[33]\n",
    "        tables2 = pd.read_html(str(soup_table2))\n",
    "\n",
    "        table2 = tables2[2]\n",
    "        consolidado = table2#[:-3]\n",
    "\n",
    "        namesList = ['Nro RC','Acreedor','Tipo Acreedor','Sol_opor','DOL_opor','SOL_Tard','DOL_Tard','Sol_Voto','Dol_Voto']\n",
    "        consolidado.columns = namesList\n",
    "        time.sleep(5)\n",
    "        # Guardar .csv\n",
    "        consolidado.to_csv(path2 + \"\\\\data_\"+str(num)+'_'+str(anio)+'_'+str(doc)+'_'+str(n)+'.csv',sep='|', encoding='utf-8', index=False)\n",
    "\n",
    "        time.sleep(2)\n",
    "        btn_next = browser.find_elements_by_class_name('rich-datascr-button')[33] #rich-datascr-inact\n",
    "        if btn_next:\n",
    "            btn_next.click()\n",
    "        else:\n",
    "            pass\n",
    "        time.sleep(3)\n",
    "        \n",
    "        #LIMPIAR        \n",
    "    try:\n",
    "        browser.find_element_by_id('formAcreedores:j_id208').click()\n",
    "    except:\n",
    "        pass\n",
    "    \n",
    "    print(\"----> \"+str(i)+ \" ---> obtenido\" )\n",
    "    continue\n",
    "    "
   ]
  },
  {
   "cell_type": "code",
   "execution_count": null,
   "metadata": {},
   "outputs": [],
   "source": [
    "listar = browser.find_element_by_id('frmInfoDeudor:dtLstDeudores:0:cmlNroAcreedores')\n",
    "listar.click()"
   ]
  },
  {
   "cell_type": "markdown",
   "metadata": {},
   "source": [
    "# Consolidado"
   ]
  },
  {
   "cell_type": "code",
   "execution_count": null,
   "metadata": {
    "scrolled": true
   },
   "outputs": [],
   "source": [
    "import pandas as pd\n",
    "import glob\n",
    "import numpy as np\n",
    "import re\n",
    "path = r'D:\\Descargas_WS\\2023\\15_INDECOPI\\tablas' # use your path\n",
    "all_files = glob.glob(path + \"/*.csv\")\n",
    "\n",
    "li = []\n",
    "\n",
    "for filename in all_files:\n",
    "    df = pd.read_csv(filename, index_col=None, header=0, encoding='utf-8',sep='|')\n",
    "    df[\"Documento\"] = filename\n",
    "    li.append(df)\n",
    "\n",
    "df_consolidado = pd.concat(li, axis=0, ignore_index=True)\n",
    "df_consolidado"
   ]
  },
  {
   "cell_type": "code",
   "execution_count": null,
   "metadata": {},
   "outputs": [],
   "source": [
    "df_consolidado['Documento'] = df_consolidado['Documento'].replace(['D:\\Descargas_WS\\2023\\15_INDECOPI\\tablas\\data_'], '-')\n",
    "df_consolidado"
   ]
  },
  {
   "cell_type": "code",
   "execution_count": null,
   "metadata": {},
   "outputs": [],
   "source": [
    "df_final = df_consolidado[df_consolidado[\"Nro RC\"].str.startswith('0')]\n",
    "df_final"
   ]
  },
  {
   "cell_type": "code",
   "execution_count": null,
   "metadata": {},
   "outputs": [],
   "source": [
    "df_final.to_excel(path2 + '\\\\Data_Indecopy_Part1'+'.xlsx', encoding='utf-8', index=False )"
   ]
  },
  {
   "cell_type": "code",
   "execution_count": 1,
   "metadata": {},
   "outputs": [
    {
     "ename": "NameError",
     "evalue": "name 'browser' is not defined",
     "output_type": "error",
     "traceback": [
      "\u001b[1;31m---------------------------------------------------------------------------\u001b[0m",
      "\u001b[1;31mNameError\u001b[0m                                 Traceback (most recent call last)",
      "\u001b[1;32m<ipython-input-1-d836b8a2b4da>\u001b[0m in \u001b[0;36m<module>\u001b[1;34m\u001b[0m\n\u001b[1;32m----> 1\u001b[1;33m \u001b[0mbrowser\u001b[0m\u001b[1;33m.\u001b[0m\u001b[0mclose\u001b[0m\u001b[1;33m(\u001b[0m\u001b[1;33m)\u001b[0m\u001b[1;33m\u001b[0m\u001b[1;33m\u001b[0m\u001b[0m\n\u001b[0m",
      "\u001b[1;31mNameError\u001b[0m: name 'browser' is not defined"
     ]
    }
   ],
   "source": [
    "browser.close()"
   ]
  },
  {
   "cell_type": "code",
   "execution_count": null,
   "metadata": {},
   "outputs": [],
   "source": []
  }
 ],
 "metadata": {
  "kernelspec": {
   "display_name": "Python 3",
   "language": "python",
   "name": "python3"
  },
  "language_info": {
   "codemirror_mode": {
    "name": "ipython",
    "version": 3
   },
   "file_extension": ".py",
   "mimetype": "text/x-python",
   "name": "python",
   "nbconvert_exporter": "python",
   "pygments_lexer": "ipython3",
   "version": "3.7.4"
  }
 },
 "nbformat": 4,
 "nbformat_minor": 2
}
